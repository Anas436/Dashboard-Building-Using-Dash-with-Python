{
 "cells": [
  {
   "cell_type": "markdown",
   "id": "e9917e6e-98b1-49dc-ab38-9dfe19212ceb",
   "metadata": {},
   "source": [
    "# Objectives\n",
    "\n",
    "In this Assignment, you will demonstrate the data visualization skills you learned by completing this course.   Dashboard is based on the concept of demonstrating US Domestic Airline Flights Performance and Yearly average flight delay statistics for a given year ( 2005 to 2020). "
   ]
  },
  {
   "cell_type": "markdown",
   "id": "0303f6b0-f3ef-4c62-8d0c-63e40fce6565",
   "metadata": {},
   "source": [
    "# Downloading and Prepping Data\n",
    "\n",
    "If you are using local jupyter lab, then  add these lines in your code:"
   ]
  },
  {
   "cell_type": "code",
   "execution_count": 1,
   "id": "f1a12b81-fd92-4492-93b1-cc5878b0add3",
   "metadata": {},
   "outputs": [
    {
     "data": {
      "text/plain": [
       "'\\n!pip install dash\\n!pip install dash==1.19.0\\n!pip install jupyter_dash\\n!pip install --upgrade plotly\\n!pip install jupyter-dash\\n'"
      ]
     },
     "execution_count": 1,
     "metadata": {},
     "output_type": "execute_result"
    }
   ],
   "source": [
    "\"\"\"\n",
    "!pip install dash\n",
    "!pip install dash==1.19.0\n",
    "!pip install jupyter_dash\n",
    "!pip install --upgrade plotly\n",
    "!pip install jupyter-dash\n",
    "\"\"\""
   ]
  },
  {
   "cell_type": "markdown",
   "id": "8e2ddfaf-122d-457c-9cdd-da7c33b41cf8",
   "metadata": {},
   "source": [
    "## TASK 1 - Read the data\n",
    "\n",
    "Let's start with\n",
    "\n",
    "* Importing necessary libraries\n",
    "* Reading the data"
   ]
  },
  {
   "cell_type": "code",
   "execution_count": 2,
   "id": "0b076070-3f7a-4ad3-9b87-09baea529e7a",
   "metadata": {},
   "outputs": [],
   "source": [
    "# Import required libraries\n",
    "import pandas as pd\n",
    "import plotly.graph_objects as go\n",
    "#import dash\n",
    "from jupyter_dash import JupyterDash\n",
    "import dash_html_components as html\n",
    "import dash_core_components as dcc\n",
    "import plotly.express as px\n",
    "from dash.dependencies import Input, Output\n",
    "\n",
    "# Read the airline data into pandas dataframe\n",
    "airline_data =  pd.read_csv('airline_data.csv', \n",
    "                            encoding = \"ISO-8859-1\",\n",
    "                            dtype={'Div1Airport': str, 'Div1TailNum': str, \n",
    "                                   'Div2Airport': str, 'Div2TailNum': str})\n",
    "\n",
    "# List of years \n",
    "year_list=[i for i in range(2005, 2021, 1)]"
   ]
  },
  {
   "cell_type": "markdown",
   "id": "7c34d7fb-5eec-4896-b13c-adbf4dbe7ccb",
   "metadata": {},
   "source": [
    "## TASK 2 - Create dash application and get the layout skeleton\n",
    "\n",
    "#### Is the dashboard titled \"US Domestic Airline Flights Performance\" with center alignment?\n",
    "\n",
    "What is expected?\n",
    "\n",
    "Make sure :\n",
    "- The dash application has the title as `US Domestic Airline Flights Performance` \n",
    "- The heading is center aligned."
   ]
  },
  {
   "cell_type": "code",
   "execution_count": 3,
   "id": "0a748bd2-4eb3-42a4-9295-a8ca928bdced",
   "metadata": {},
   "outputs": [],
   "source": [
    "# Create a dash application\n",
    "app=JupyterDash(__name__) #This line used for JupyterLab\n",
    "\n",
    "# REVIEW1: Clear the layout and do not display exception till callback gets executed\n",
    "app.config.suppress_callback_exceptions=True\n",
    "\n",
    "# Build dash app layout\n",
    "app.layout=html.Div(children=[html.H1(\"US Domestic Airline Flights Performance\",\n",
    "                                     style={'textAlign': 'center', 'color': '#503D36','font-size': 24}),\n",
    "                              \n",
    "                              #outer division starts\n",
    "                              html.Div([\n",
    "                                  \n",
    "                                  html.Div(html.H2(\"Report Type:\",style={'margin-right': '2em'})),\n",
    "                                  \n",
    "                                  dcc.Dropdown(id=\"dropdown-menu1\",\n",
    "                                               options=[{'label': 'Yearly Airline Performance Report', 'value':\"yapr\"},\n",
    "                                                        {'label': 'Yearly Average Flight Delay Statistics', 'value':\"yafds\"}\n",
    "                                                        ],placeholder='Select a Report Type',style={'width':'80%', 'padding':'3px', 'font-size':'20px', 'text-align-last':'center'},\n",
    "                                                     value=\"yapr\"),\n",
    "                                  \n",
    "                                  html.Div(html.H2(\"Choose Year:\",style={'margin-right': '2em'})),\n",
    "                                  dcc.Dropdown(id=\"dropdown-menu2\",\n",
    "                                               options=[{'label': i, 'value': i} for i in year_list],\n",
    "                                               placeholder='Select a Year',\n",
    "                                               style={'width':'80%', 'padding':'3px', 'font-size':'20px', 'text-align-last':'center'}, \n",
    "                                               value=\"year5\"),\n",
    "                                                                  html.Div([\n",
    "                                        html.Div(dcc.Graph(id=\"carrier-plot\")),\n",
    "                                        html.Div(dcc.Graph(id=\"weather-plot\"))\n",
    "                                ], style={'display': 'flex'}),\n",
    "    \n",
    "                                html.Div([\n",
    "                                        html.Div(dcc.Graph(id=\"nas-plot\")),\n",
    "                                        html.Div(dcc.Graph(id=\"security-plot\"))\n",
    "                                ], style={'display': 'flex'}),\n",
    "                                \n",
    "                                html.Div(dcc.Graph(id=\"late-plot\"), style={'width':'65%'})\n",
    "\n",
    "                              ]) #outer division ends\n",
    "                             \n",
    "                             \n",
    "                             \n",
    "                        ])#layout ends"
   ]
  },
  {
   "cell_type": "markdown",
   "id": "23b5758b-49e6-40ff-b503-b3e858d3c225",
   "metadata": {},
   "source": [
    "#### Is the dashboard containing two dropdown?\n",
    "\n",
    "What is expected?\n",
    "\n",
    "Below are the 2 dropdown menus title and options.\n",
    "\n",
    "Dropdown menu 1 Title: `Report type` \n",
    "\n",
    "Options:\n",
    "\n",
    "- Yearly airline performance report \n",
    "\n",
    "- Yearly average flight delay statistics\n"
   ]
  },
  {
   "cell_type": "markdown",
   "id": "3db82414-3149-4333-b91d-6b836b70b8c2",
   "metadata": {},
   "source": [
    "#### Does `Choose Year` dropdown contain year from 2005 to 2020?\n",
    "\n",
    "Dropdown menu 2 Title: `Choose Year`\n",
    "\n",
    "Options: Display from 2005 to 2020"
   ]
  },
  {
   "cell_type": "code",
   "execution_count": 4,
   "id": "bc6832fe-a69c-4465-b4b5-8e25072cf66a",
   "metadata": {},
   "outputs": [],
   "source": [
    "\"\"\" Compute_info function description\n",
    "\n",
    "This function takes in airline data and selected year as an input and performs computation for creating charts and plots.\n",
    "\n",
    "Arguments:\n",
    "    airline_data: Input airline data.\n",
    "    entered_year: Input year for which computation needs to be performed.\n",
    "    \n",
    "Returns:\n",
    "    Computed average dataframes for carrier delay, weather delay, NAS delay, security delay, and late aircraft delay.\n",
    "\n",
    "\"\"\"\n",
    "\n",
    "def compute_info(airline_data, entered_year):\n",
    "    \n",
    "    # Select data\n",
    "    df =  airline_data[airline_data['Year']==int(entered_year)]\n",
    "    \n",
    "    # Compute delay averages\n",
    "    avg_car = df.groupby(['Month','Reporting_Airline'])['CarrierDelay'].mean().reset_index()\n",
    "    avg_weather = df.groupby(['Month','Reporting_Airline'])['WeatherDelay'].mean().reset_index()\n",
    "    avg_NAS = df.groupby(['Month','Reporting_Airline'])['NASDelay'].mean().reset_index()\n",
    "    avg_sec = df.groupby(['Month','Reporting_Airline'])['SecurityDelay'].mean().reset_index()\n",
    "    avg_late = df.groupby(['Month','Reporting_Airline'])['LateAircraftDelay'].mean().reset_index()\n",
    "    \n",
    "    return avg_car, avg_weather, avg_NAS, avg_sec, avg_late\n",
    "\n",
    "# Callback decorator\n",
    "@app.callback( [\n",
    "               Output(component_id='carrier-plot', component_property='figure'),\n",
    "               Output(component_id='weather-plot', component_property='figure'),\n",
    "               Output(component_id='nas-plot', component_property='figure'), \n",
    "               Output(component_id='security-plot', component_property='figure'),\n",
    "               Output(component_id='late-plot', component_property='figure')\n",
    "               ],\n",
    "               Input(component_id='input-year', component_property='value'))\n",
    "# Computation to callback function and return graph\n",
    "def get_graph(entered_year):\n",
    "    \n",
    "    # Compute required information for creating graph from the data\n",
    "    avg_car, avg_weather, avg_NAS, avg_sec, avg_late = compute_info(airline_data, entered_year)\n",
    "            \n",
    "    # Line plot for carrier delay\n",
    "    carrier_fig = px.line(avg_car, x='Month', y='CarrierDelay', color='Reporting_Airline', title='Average carrier delay time (minutes) by airline')\n",
    "    \n",
    "    # Line plot for weather delay\n",
    "    weather_fig = px.line(avg_weather, x='Month', y='WeatherDelay', color='Reporting_Airline', title='Average weather delay time (minutes) by airline')\n",
    "    \n",
    "    # Line plot for nas delay\n",
    "    nas_fig = px.line(avg_NAS, x='Month', y='NASDelay', color='Reporting_Airline', title='Average NAS delay time (minutes) by airline')\n",
    "    \n",
    "    # Line plot for security delay\n",
    "    sec_fig = px.line(avg_sec, x='Month', y='SecurityDelay', color='Reporting_Airline', title='Average security delay time (minutes) by airline')\n",
    "    \n",
    "    # Line plot for late aircraft delay\n",
    "    late_fig = px.line(avg_late, x='Month', y='LateAircraftDelay', color='Reporting_Airline', title='Average late aircraft delay time (minutes) by airline')\n",
    "            \n",
    "    return[carrier_fig, weather_fig, nas_fig, sec_fig, late_fig]\n",
    "\n",
    "\n",
    "   \n",
    "if __name__ == '__main__':\n",
    "    #app.run_server(mode=\"inline\")\n",
    "    \n",
    "        \n",
    "    #For JupyterLab\n",
    "    app.run_server(mode='jupyterlab', port = 8090, dev_tools_ui=True, debug=True,dev_tools_hot_reload =True, threaded=True)"
   ]
  },
  {
   "cell_type": "code",
   "execution_count": null,
   "id": "eca88b7c-0a87-4a31-8773-ffd5a46cccc0",
   "metadata": {},
   "outputs": [],
   "source": []
  }
 ],
 "metadata": {
  "kernelspec": {
   "display_name": "Python 3 (ipykernel)",
   "language": "python",
   "name": "python3"
  },
  "language_info": {
   "codemirror_mode": {
    "name": "ipython",
    "version": 3
   },
   "file_extension": ".py",
   "mimetype": "text/x-python",
   "name": "python",
   "nbconvert_exporter": "python",
   "pygments_lexer": "ipython3",
   "version": "3.9.12"
  }
 },
 "nbformat": 4,
 "nbformat_minor": 5
}
